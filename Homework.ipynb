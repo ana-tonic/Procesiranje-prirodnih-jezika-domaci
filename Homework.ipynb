{
 "cells": [
  {
   "cell_type": "code",
   "execution_count": 1,
   "id": "999275c7",
   "metadata": {},
   "outputs": [],
   "source": [
    "import pandas as pd\n",
    "import numpy as np\n",
    "import matplotlib.pyplot as plt\n",
    "import re\n",
    "import nltk\n",
    "import string\n",
    "import contractions\n",
    "from nltk.tokenize import word_tokenize\n",
    "from nltk.tag import pos_tag\n",
    "from collections import Counter\n",
    "import random\n",
    "from sklearn.metrics import accuracy_score, precision_score, recall_score, f1_score"
   ]
  },
  {
   "cell_type": "code",
   "execution_count": 2,
   "id": "f5b53693",
   "metadata": {},
   "outputs": [
    {
     "name": "stderr",
     "output_type": "stream",
     "text": [
      "[nltk_data] Downloading package punkt to\n",
      "[nltk_data]     C:\\Users\\Ana\\AppData\\Roaming\\nltk_data...\n",
      "[nltk_data]   Package punkt is already up-to-date!\n"
     ]
    },
    {
     "data": {
      "text/plain": [
       "True"
      ]
     },
     "execution_count": 2,
     "metadata": {},
     "output_type": "execute_result"
    }
   ],
   "source": [
    "nltk.download('punkt')"
   ]
  },
  {
   "cell_type": "code",
   "execution_count": 3,
   "id": "99d4242b",
   "metadata": {},
   "outputs": [
    {
     "name": "stderr",
     "output_type": "stream",
     "text": [
      "[nltk_data] Downloading package averaged_perceptron_tagger to\n",
      "[nltk_data]     C:\\Users\\Ana\\AppData\\Roaming\\nltk_data...\n",
      "[nltk_data]   Package averaged_perceptron_tagger is already up-to-\n",
      "[nltk_data]       date!\n"
     ]
    },
    {
     "data": {
      "text/plain": [
       "True"
      ]
     },
     "execution_count": 3,
     "metadata": {},
     "output_type": "execute_result"
    }
   ],
   "source": [
    "nltk.download('averaged_perceptron_tagger')"
   ]
  },
  {
   "cell_type": "code",
   "execution_count": 4,
   "id": "2db1974a",
   "metadata": {},
   "outputs": [
    {
     "name": "stderr",
     "output_type": "stream",
     "text": [
      "[nltk_data] Downloading package stopwords to\n",
      "[nltk_data]     C:\\Users\\Ana\\AppData\\Roaming\\nltk_data...\n",
      "[nltk_data]   Package stopwords is already up-to-date!\n"
     ]
    },
    {
     "data": {
      "text/plain": [
       "True"
      ]
     },
     "execution_count": 4,
     "metadata": {},
     "output_type": "execute_result"
    }
   ],
   "source": [
    "from nltk.corpus import stopwords\n",
    "nltk.download('stopwords')"
   ]
  },
  {
   "cell_type": "markdown",
   "id": "d8576b70",
   "metadata": {},
   "source": [
    "<h1>1 Exploratory Data Analysis</h1>"
   ]
  },
  {
   "cell_type": "code",
   "execution_count": 5,
   "id": "897ec328",
   "metadata": {},
   "outputs": [],
   "source": [
    "df = pd.read_csv('Womens Clothing E-Commerce Reviews.csv', index_col=0)"
   ]
  },
  {
   "cell_type": "code",
   "execution_count": 6,
   "id": "2eb48387",
   "metadata": {},
   "outputs": [
    {
     "data": {
      "text/html": [
       "<div>\n",
       "<style scoped>\n",
       "    .dataframe tbody tr th:only-of-type {\n",
       "        vertical-align: middle;\n",
       "    }\n",
       "\n",
       "    .dataframe tbody tr th {\n",
       "        vertical-align: top;\n",
       "    }\n",
       "\n",
       "    .dataframe thead th {\n",
       "        text-align: right;\n",
       "    }\n",
       "</style>\n",
       "<table border=\"1\" class=\"dataframe\">\n",
       "  <thead>\n",
       "    <tr style=\"text-align: right;\">\n",
       "      <th></th>\n",
       "      <th>Clothing ID</th>\n",
       "      <th>Age</th>\n",
       "      <th>Title</th>\n",
       "      <th>Review Text</th>\n",
       "      <th>Rating</th>\n",
       "      <th>Recommended IND</th>\n",
       "      <th>Positive Feedback Count</th>\n",
       "      <th>Division Name</th>\n",
       "      <th>Department Name</th>\n",
       "      <th>Class Name</th>\n",
       "    </tr>\n",
       "  </thead>\n",
       "  <tbody>\n",
       "    <tr>\n",
       "      <th>0</th>\n",
       "      <td>767</td>\n",
       "      <td>33</td>\n",
       "      <td>NaN</td>\n",
       "      <td>Absolutely wonderful - silky and sexy and comf...</td>\n",
       "      <td>4</td>\n",
       "      <td>1</td>\n",
       "      <td>0</td>\n",
       "      <td>Initmates</td>\n",
       "      <td>Intimate</td>\n",
       "      <td>Intimates</td>\n",
       "    </tr>\n",
       "    <tr>\n",
       "      <th>1</th>\n",
       "      <td>1080</td>\n",
       "      <td>34</td>\n",
       "      <td>NaN</td>\n",
       "      <td>Love this dress!  it's sooo pretty.  i happene...</td>\n",
       "      <td>5</td>\n",
       "      <td>1</td>\n",
       "      <td>4</td>\n",
       "      <td>General</td>\n",
       "      <td>Dresses</td>\n",
       "      <td>Dresses</td>\n",
       "    </tr>\n",
       "    <tr>\n",
       "      <th>2</th>\n",
       "      <td>1077</td>\n",
       "      <td>60</td>\n",
       "      <td>Some major design flaws</td>\n",
       "      <td>I had such high hopes for this dress and reall...</td>\n",
       "      <td>3</td>\n",
       "      <td>0</td>\n",
       "      <td>0</td>\n",
       "      <td>General</td>\n",
       "      <td>Dresses</td>\n",
       "      <td>Dresses</td>\n",
       "    </tr>\n",
       "    <tr>\n",
       "      <th>3</th>\n",
       "      <td>1049</td>\n",
       "      <td>50</td>\n",
       "      <td>My favorite buy!</td>\n",
       "      <td>I love, love, love this jumpsuit. it's fun, fl...</td>\n",
       "      <td>5</td>\n",
       "      <td>1</td>\n",
       "      <td>0</td>\n",
       "      <td>General Petite</td>\n",
       "      <td>Bottoms</td>\n",
       "      <td>Pants</td>\n",
       "    </tr>\n",
       "    <tr>\n",
       "      <th>4</th>\n",
       "      <td>847</td>\n",
       "      <td>47</td>\n",
       "      <td>Flattering shirt</td>\n",
       "      <td>This shirt is very flattering to all due to th...</td>\n",
       "      <td>5</td>\n",
       "      <td>1</td>\n",
       "      <td>6</td>\n",
       "      <td>General</td>\n",
       "      <td>Tops</td>\n",
       "      <td>Blouses</td>\n",
       "    </tr>\n",
       "  </tbody>\n",
       "</table>\n",
       "</div>"
      ],
      "text/plain": [
       "   Clothing ID  Age                    Title   \n",
       "0          767   33                      NaN  \\\n",
       "1         1080   34                      NaN   \n",
       "2         1077   60  Some major design flaws   \n",
       "3         1049   50         My favorite buy!   \n",
       "4          847   47         Flattering shirt   \n",
       "\n",
       "                                         Review Text  Rating  Recommended IND   \n",
       "0  Absolutely wonderful - silky and sexy and comf...       4                1  \\\n",
       "1  Love this dress!  it's sooo pretty.  i happene...       5                1   \n",
       "2  I had such high hopes for this dress and reall...       3                0   \n",
       "3  I love, love, love this jumpsuit. it's fun, fl...       5                1   \n",
       "4  This shirt is very flattering to all due to th...       5                1   \n",
       "\n",
       "   Positive Feedback Count   Division Name Department Name Class Name  \n",
       "0                        0       Initmates        Intimate  Intimates  \n",
       "1                        4         General         Dresses    Dresses  \n",
       "2                        0         General         Dresses    Dresses  \n",
       "3                        0  General Petite         Bottoms      Pants  \n",
       "4                        6         General            Tops    Blouses  "
      ]
     },
     "execution_count": 6,
     "metadata": {},
     "output_type": "execute_result"
    }
   ],
   "source": [
    "df.head()"
   ]
  },
  {
   "cell_type": "code",
   "execution_count": 7,
   "id": "2af7e11e",
   "metadata": {},
   "outputs": [
    {
     "name": "stdout",
     "output_type": "stream",
     "text": [
      "Clothing ID                 int64\n",
      "Age                         int64\n",
      "Title                      object\n",
      "Review Text                object\n",
      "Rating                      int64\n",
      "Recommended IND             int64\n",
      "Positive Feedback Count     int64\n",
      "Division Name              object\n",
      "Department Name            object\n",
      "Class Name                 object\n",
      "dtype: object\n"
     ]
    }
   ],
   "source": [
    "print(df.dtypes)"
   ]
  },
  {
   "cell_type": "code",
   "execution_count": 8,
   "id": "2e4cb0cd",
   "metadata": {},
   "outputs": [
    {
     "data": {
      "image/png": "[encoded data removed]",
      "text/plain": [
       "<Figure size 640x480 with 1 Axes>"
      ]
     },
     "metadata": {},
     "output_type": "display_data"
    }
   ],
   "source": [
    "sentiment_count = df[\"Recommended IND\"].value_counts()\n",
    "plt.pie(sentiment_count, labels=sentiment_count.index,\n",
    "        autopct=\"%1.1f%%\", shadow=True, startangle=140)\n",
    "plt.show()"
   ]
  },
  {
   "cell_type": "markdown",
   "id": "6eda2f3d",
   "metadata": {},
   "source": [
    "<h1>2 Data Preprocessing</h1>"
   ]
  },
  {
   "cell_type": "markdown",
   "id": "0b10cb92",
   "metadata": {},
   "source": [
    "<h2>Dealing with NaN values</h2>"
   ]
  },
  {
   "cell_type": "code",
   "execution_count": 9,
   "id": "91f9fcf3",
   "metadata": {},
   "outputs": [
    {
     "name": "stdout",
     "output_type": "stream",
     "text": [
      "845\n"
     ]
    }
   ],
   "source": [
    "# Check for missing values in 'Review Text' column\n",
    "print(df['Review Text'].isna().sum())"
   ]
  },
  {
   "cell_type": "code",
   "execution_count": 10,
   "id": "0fe017a0",
   "metadata": {},
   "outputs": [],
   "source": [
    "# Drop rows where 'Review Text' is NaN\n",
    "df = df.dropna(subset=['Review Text'])"
   ]
  },
  {
   "cell_type": "code",
   "execution_count": 11,
   "id": "75f3a46f",
   "metadata": {},
   "outputs": [],
   "source": [
    "# This function cleans and standardize the input review text by performing a series of operations: \n",
    "#         converting to lowercase, \n",
    "#         replacing consecutive repeating characters, \n",
    "#         removing extra punctuation, \n",
    "#         and expanding contractions\n",
    "def word_features(review):\n",
    "    review = review.lower()\n",
    "    review = re.sub(r'(.)\\1+', r'\\1\\1', review)\n",
    "    review = re.sub(r'[\\?\\.\\!]+(?=[\\?\\.\\!])', \"\", review)\n",
    "    review = contractions.fix(review)\n",
    "    return review"
   ]
  },
  {
   "cell_type": "code",
   "execution_count": 12,
   "id": "50cbca64",
   "metadata": {},
   "outputs": [],
   "source": [
    "# Chapters 2.1 and 2.2 complete step b of the task: \n",
    "# b: Using the NLTK tool, perform tokenization and determine word types."
   ]
  },
  {
   "cell_type": "markdown",
   "id": "4040b188",
   "metadata": {},
   "source": [
    "<h2>2.1 Tokenization</h2>"
   ]
  },
  {
   "cell_type": "code",
   "execution_count": 13,
   "id": "f16638cc",
   "metadata": {},
   "outputs": [],
   "source": [
    "stop_words = set(stopwords.words('english'))"
   ]
  },
  {
   "cell_type": "code",
   "execution_count": 14,
   "id": "61dc2be0",
   "metadata": {},
   "outputs": [],
   "source": [
    "stop_words.discard('not')"
   ]
  },
  {
   "cell_type": "code",
   "execution_count": 15,
   "id": "f2024306",
   "metadata": {},
   "outputs": [],
   "source": [
    "def tokenize(review):\n",
    "    token_list = [token for token in nltk.tokenize.word_tokenize(review)\n",
    "        if token not in string.punctuation and token.isalpha() and not token in stop_words]\n",
    "\n",
    "    return token_list       "
   ]
  },
  {
   "cell_type": "code",
   "execution_count": 16,
   "id": "3df26f11",
   "metadata": {},
   "outputs": [],
   "source": [
    "def process_review(review):      \n",
    "    review = word_features(review)\n",
    "    review = tokenize(review)\n",
    "    return review"
   ]
  },
  {
   "cell_type": "code",
   "execution_count": 17,
   "id": "2c02d073",
   "metadata": {},
   "outputs": [],
   "source": [
    "df[\"tokens\"] = df[\"Review Text\"].apply(process_review)"
   ]
  },
  {
   "cell_type": "markdown",
   "id": "1e25f0e2",
   "metadata": {},
   "source": [
    "<h2>2.2 POS tagging</h2>"
   ]
  },
  {
   "cell_type": "code",
   "execution_count": 18,
   "id": "3602d8a6",
   "metadata": {},
   "outputs": [],
   "source": [
    "def tag_text(tokens):\n",
    "    tagged_text = nltk.pos_tag(tokens)\n",
    "    return tagged_text"
   ]
  },
  {
   "cell_type": "code",
   "execution_count": 19,
   "id": "8bfc3a3b",
   "metadata": {},
   "outputs": [],
   "source": [
    "df['TaggedText'] = df['tokens'].apply(tag_text)"
   ]
  },
  {
   "cell_type": "markdown",
   "id": "8c12cc89",
   "metadata": {},
   "source": [
    "<h2>2.3 Extracting the most frequent nouns </h2>"
   ]
  },
  {
   "cell_type": "code",
   "execution_count": 20,
   "id": "da85e757",
   "metadata": {},
   "outputs": [],
   "source": [
    "# Next chapter copletes step c of task\n",
    "# c. Extract the most frequent nouns from the text and declare them characteristics."
   ]
  },
  {
   "cell_type": "code",
   "execution_count": 21,
   "id": "6bca915e",
   "metadata": {},
   "outputs": [],
   "source": [
    "nouns = []\n",
    "for doc in df['TaggedText']:\n",
    "    for word, pos in doc:\n",
    "        if pos == 'NN':\n",
    "            nouns.append(word)\n",
    "\n",
    "common_nouns = [item[0] for item in Counter(nouns).most_common()]"
   ]
  },
  {
   "cell_type": "markdown",
   "id": "cf6e021f",
   "metadata": {},
   "source": [
    "<h2>2.4 Separation of adjectives with separated nouns </h2>"
   ]
  },
  {
   "cell_type": "markdown",
   "id": "2b22cdfc",
   "metadata": {},
   "source": [
    "Next chapter copletes step d of task </br>\n",
    "d Select the adjectives that stand next to the separated nouns and pronounce them as words that express sentiment."
   ]
  },
  {
   "cell_type": "code",
   "execution_count": 22,
   "id": "111fb572",
   "metadata": {},
   "outputs": [],
   "source": [
    "adj_with_nouns = {}\n",
    "for common_noun in common_nouns:\n",
    "    adj_with_nouns[common_noun] = []\n",
    "    \n",
    "for doc in df['TaggedText']:\n",
    "    for i in range(len(doc)):\n",
    "        word, pos = doc[i]\n",
    "        if word in common_nouns:\n",
    "            # proveriti da li su reči oko imenica pridevi\n",
    "            if i > 0:\n",
    "                prev_word, prev_pos = doc[i-1]\n",
    "                if prev_pos == 'JJ':\n",
    "                    adj_with_nouns[word].append(prev_word)\n",
    "            if i < len(doc) - 1:\n",
    "                next_word, next_pos = doc[i+1]\n",
    "                if next_pos == 'JJ':\n",
    "                    adj_with_nouns[word].append(next_word)"
   ]
  },
  {
   "cell_type": "markdown",
   "id": "c16688e1",
   "metadata": {},
   "source": [
    "<h2>2.5 Creating a dictionary of sentiments </h2>"
   ]
  },
  {
   "cell_type": "markdown",
   "id": "4afa7ecf",
   "metadata": {},
   "source": [
    "Next chapter copletes step e of task <br>\n",
    "Create a sentiment dictionary"
   ]
  },
  {
   "cell_type": "code",
   "execution_count": 23,
   "id": "3fb68554",
   "metadata": {},
   "outputs": [],
   "source": [
    "all_adjectives = []\n",
    "for sublist in adj_with_nouns.values():\n",
    "    for adj in sublist:\n",
    "        all_adjectives.append(adj)"
   ]
  },
  {
   "cell_type": "code",
   "execution_count": 24,
   "id": "f4e33377",
   "metadata": {},
   "outputs": [],
   "source": [
    "counter = Counter(all_adjectives)\n",
    "common_adjectives = []\n",
    "\n",
    "for item in counter.most_common():\n",
    "    common_adjectives.append(item[0])"
   ]
  },
  {
   "cell_type": "code",
   "execution_count": 25,
   "id": "acf203b5",
   "metadata": {},
   "outputs": [
    {
     "data": {
      "text/plain": [
       "['great',\n",
       " 'top',\n",
       " 'small',\n",
       " 'soft',\n",
       " 'little',\n",
       " 'comfortable',\n",
       " 'nice',\n",
       " 'fit',\n",
       " 'wear',\n",
       " 'large',\n",
       " 'perfect',\n",
       " 'fabric',\n",
       " 'beautiful',\n",
       " 'true',\n",
       " 'good',\n",
       " 'much',\n",
       " 'big',\n",
       " 'short',\n",
       " 'black',\n",
       " 'petite',\n",
       " 'white',\n",
       " 'regular',\n",
       " 'dress',\n",
       " 'super',\n",
       " 'casual',\n",
       " 'cute',\n",
       " 'gorgeous',\n",
       " 'loose',\n",
       " 'right',\n",
       " 'high',\n",
       " 'usual',\n",
       " 'thin',\n",
       " 'blue',\n",
       " 'tight',\n",
       " 'easy',\n",
       " 'long',\n",
       " 'overall',\n",
       " 'many',\n",
       " 'green',\n",
       " 'different']"
      ]
     },
     "execution_count": 25,
     "metadata": {},
     "output_type": "execute_result"
    }
   ],
   "source": [
    "common_adjectives[:40]"
   ]
  },
  {
   "cell_type": "code",
   "execution_count": 26,
   "id": "40c41069",
   "metadata": {},
   "outputs": [],
   "source": [
    "sentiment_dict = {\n",
    "'great':'positive',\n",
    "'top':'positive',\n",
    "'small':'negative',\n",
    "'soft':'positive',\n",
    "'little':'positive',\n",
    "'comfortable':'positive',\n",
    "'nice':'positive',\n",
    "'fit':'positive',\n",
    "'wear':'positive',\n",
    "'large':'negative',\n",
    "'perfect':'positive',\n",
    "'fabric':'positive',\n",
    "'beautiful':'positive',\n",
    "'true':'positive',\n",
    "'good':'positive',\n",
    "'much':'positive',\n",
    "'big':'positive',\n",
    "'short':'positive',\n",
    "'black':'positive',\n",
    "'petite':'positive',\n",
    "'white':'positive',\n",
    "'regular':'positive',\n",
    "'dress':'positive',\n",
    "'super':'positive',\n",
    "'casual':'positive',\n",
    "'cute':'positive',\n",
    "'gorgeous':'positive',\n",
    "'loose':'negative',\n",
    "'right':'positive',\n",
    "'high':'positive',\n",
    "'usual':'positive',\n",
    "'thin':'positive',\n",
    "'blue':'positive',\n",
    "'tight':'negative',\n",
    "'easy':'positive',\n",
    "'long':'positive',\n",
    "'overall':'positive',\n",
    "'many':'positive',\n",
    "'green':'positive',\n",
    "'different':'negative',\n",
    "}"
   ]
  },
  {
   "cell_type": "markdown",
   "id": "64ae5f03",
   "metadata": {},
   "source": [
    "<h2>Sentiment prediction</h2>"
   ]
  },
  {
   "cell_type": "code",
   "execution_count": 27,
   "id": "1ecebfbc",
   "metadata": {},
   "outputs": [],
   "source": [
    "def determine_sentiment(tagged_text, sentiment_dict):\n",
    "    sentiment_score = 0\n",
    "    for word, pos in tagged_text:\n",
    "        if pos == 'JJ' and word in sentiment_dict:\n",
    "            if sentiment_dict[word] == 'positive':\n",
    "                sentiment_score += 1\n",
    "            elif sentiment_dict[word] == 'negative':\n",
    "                sentiment_score -= 1\n",
    "    return 'positive' if sentiment_score > 0 else 'negative' if sentiment_score < 0 else 'neutral'\n",
    "\n",
    "df['Sentiment'] = df['TaggedText'].apply(lambda x: determine_sentiment(x, sentiment_dict))"
   ]
  },
  {
   "cell_type": "code",
   "execution_count": 28,
   "id": "3a162107",
   "metadata": {},
   "outputs": [],
   "source": [
    "def transform_sentiment(sentiment):\n",
    "    if sentiment == 'positive':\n",
    "        return 1\n",
    "    elif sentiment == 'negative':\n",
    "        return 0\n",
    "    elif sentiment == 'neutral':\n",
    "        return random.choice([0, 1])  # random choice between 0 and 1\n",
    "\n",
    "# Applying the function to transform the column\n",
    "df['Sentiment_binary'] = df['Sentiment'].apply(transform_sentiment)"
   ]
  },
  {
   "cell_type": "code",
   "execution_count": 29,
   "id": "0161671e",
   "metadata": {},
   "outputs": [
    {
     "name": "stdout",
     "output_type": "stream",
     "text": [
      "Accuracy: 77.28%\n",
      "Precision: 82.84%\n",
      "Recall: 91.14%\n",
      "F1 Score: 86.79%\n"
     ]
    }
   ],
   "source": [
    "y_true = df['Recommended IND']  # True labels\n",
    "y_pred = df['Sentiment_binary']  # Predicted labels\n",
    "\n",
    "# Calculate the accuracy\n",
    "accuracy = accuracy_score(y_true, y_pred)\n",
    "print(f'Accuracy: {accuracy * 100:.2f}%')\n",
    "\n",
    "# Calculate the precision\n",
    "precision = precision_score(y_true, y_pred)\n",
    "print(f'Precision: {precision * 100:.2f}%')\n",
    "\n",
    "# Calculate the recall\n",
    "recall = recall_score(y_true, y_pred)\n",
    "print(f'Recall: {recall * 100:.2f}%')\n",
    "\n",
    "# Calculate the F1 score\n",
    "f1 = f1_score(y_true, y_pred)\n",
    "print(f'F1 Score: {f1 * 100:.2f}%')"
   ]
  },
  {
   "cell_type": "code",
   "execution_count": 30,
   "id": "cb87658a",
   "metadata": {},
   "outputs": [],
   "source": [
    "new_df = df[['Sentiment_binary', 'Review Text']]\n",
    "new_df.to_csv('predicted_sentiments.csv', index=False)"
   ]
  }
 ],
 "metadata": {
  "kernelspec": {
   "display_name": "Python 3 (ipykernel)",
   "language": "python",
   "name": "python3"
  },
  "language_info": {
   "codemirror_mode": {
    "name": "ipython",
    "version": 3
   },
   "file_extension": ".py",
   "mimetype": "text/x-python",
   "name": "python",
   "nbconvert_exporter": "python",
   "pygments_lexer": "ipython3",
   "version": "3.9.13"
  }
 },
 "nbformat": 4,
 "nbformat_minor": 5
}
